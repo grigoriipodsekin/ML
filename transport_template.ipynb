{
 "cells": [
  {
   "cell_type": "markdown",
   "metadata": {},
   "source": [
    "## **Полный анализ данных**"
   ]
  },
  {
   "cell_type": "markdown",
   "metadata": {},
   "source": [
    "### **Постановка задачи**"
   ]
  },
  {
   "cell_type": "markdown",
   "metadata": {},
   "source": [
    "Представим, что мы - аналитики в крупной транспортной компании. Компания управляет общественным транспортом в городе и хочет понять, как улучшить расписание транспорта и оптимизировать текущие маршруты.\n",
    "\n",
    "Наша задача - провести полный цикл анализа данных и ответить на вопрос: **какой маршрут больше всего требует изменений для повышения эффективности транспортной сети?**"
   ]
  },
  {
   "cell_type": "markdown",
   "metadata": {},
   "source": [
    "### **Описание данных**"
   ]
  },
  {
   "cell_type": "markdown",
   "metadata": {},
   "source": [
    "Данные, с которыми нам предстоит работать, разделены на 2 части:"
   ]
  },
  {
   "cell_type": "markdown",
   "metadata": {},
   "source": [
    "#### **Часть 1**"
   ]
  },
  {
   "cell_type": "markdown",
   "metadata": {},
   "source": [
    "**Первая часть** данных находится в **базе данных** компании. Это информация о количестве пассажиров на различных маршрутах за последние 3 месяца. Для работы с этой частью данных нам потребуется подключиться к базе данных SQLite, выполнить соответствующие SQL-запросы, чтобы выгрузить нужную таблицу.\n",
    "- Таблица: `passenger_stats`\n",
    "- Колонки: `route_id` (ID маршрута), `date` (дата поездки), `time` (длительность поездки в минутах), `passenger_count` (количество пассажиров)"
   ]
  },
  {
   "cell_type": "markdown",
   "metadata": {},
   "source": [
    "#### **Часть 2**"
   ]
  },
  {
   "cell_type": "markdown",
   "metadata": {},
   "source": [
    "**Вторая часть** данных - результаты опроса пассажиров, собранные маркетинговой командой, сохранены в **CSV-файле**.\n",
    "- Файл: `passenger_feedback.csv`\n",
    "- Колонки: `route_id` (ID маршрута), `rating` (оценка маршрута от 1 до 5)"
   ]
  },
  {
   "cell_type": "markdown",
   "metadata": {},
   "source": [
    "### **Этапы анализа**"
   ]
  },
  {
   "cell_type": "markdown",
   "metadata": {},
   "source": [
    "Всего нам предстоит пройти через **5 этапов анализа**:"
   ]
  },
  {
   "cell_type": "markdown",
   "metadata": {},
   "source": [
    "#### **1 этап**"
   ]
  },
  {
   "cell_type": "markdown",
   "metadata": {},
   "source": [
    "`Сбор данных`:\n",
    "- Подключиться к базе данных и выгрузить данные\n",
    "- Подключиться к CSV-файлу и выгрузить данные"
   ]
  },
  {
   "cell_type": "markdown",
   "metadata": {},
   "source": [
    "#### **2 этап**"
   ]
  },
  {
   "cell_type": "markdown",
   "metadata": {},
   "source": [
    "`Очистка данных`:\n",
    "- Проверить обе части данных на наличие пропусков и некорректных значений\n",
    "- Преобразовать формат дат, если потребуется, и привести данные к единой форме"
   ]
  },
  {
   "cell_type": "markdown",
   "metadata": {},
   "source": [
    "#### **3 этап**"
   ]
  },
  {
   "cell_type": "markdown",
   "metadata": {},
   "source": [
    "`Обработка данных`:\n",
    "- Сопоставить данные из обеих таблиц\n",
    "- Рассчитать среднюю оценку для каждого маршрута\n",
    "- Создать таблицу, показывающую, в какие дни каждый маршрут нагружен больше всего по количеству пассажиров"
   ]
  },
  {
   "cell_type": "markdown",
   "metadata": {},
   "source": [
    "#### **4 этап**"
   ]
  },
  {
   "cell_type": "markdown",
   "metadata": {},
   "source": [
    "`Визуализация данных`:\n",
    "- Построить столбчатую диаграмму для сравнения средней оценки маршрутов\n",
    "- Построить линейные графики, показывающий пассажиропоток по датам для самых загруженных маршрутов"
   ]
  },
  {
   "cell_type": "markdown",
   "metadata": {},
   "source": [
    "#### **5 этап**"
   ]
  },
  {
   "cell_type": "markdown",
   "metadata": {},
   "source": [
    "`Выводы`:\n",
    "- Ответить на вопрос: какой маршрут больше всего требует изменений для повышения эффективности транспортной сети?"
   ]
  },
  {
   "cell_type": "markdown",
   "metadata": {},
   "source": [
    "### **Работа с данными**"
   ]
  },
  {
   "cell_type": "markdown",
   "metadata": {},
   "source": [
    "#### **1. Сбор данных**"
   ]
  },
  {
   "cell_type": "markdown",
   "metadata": {},
   "source": [
    "Подключимся к БД `passenger_stats_extended.db` и выгрузим данные с помощью SELECT-запроса. "
   ]
  },
  {
   "cell_type": "markdown",
   "metadata": {},
   "source": [
    "`sqlite3` - модуль языка Python для работы с СУБД **SQLite**. С помощью нее будем отправлять SQL-запрос к БД, находясь внутри Python-программы."
   ]
  },
  {
   "cell_type": "code",
   "execution_count": null,
   "metadata": {},
   "outputs": [],
   "source": []
  },
  {
   "cell_type": "markdown",
   "metadata": {},
   "source": [
    "`sqlite3.connect()` - функция для настройки подключения к указанной БД"
   ]
  },
  {
   "cell_type": "code",
   "execution_count": null,
   "metadata": {},
   "outputs": [],
   "source": []
  },
  {
   "cell_type": "markdown",
   "metadata": {},
   "source": [
    "Составляем SQL-запрос за выгрузки всех данных из БД и сохраняем его в виде строки:"
   ]
  },
  {
   "cell_type": "code",
   "execution_count": null,
   "metadata": {},
   "outputs": [],
   "source": []
  },
  {
   "cell_type": "markdown",
   "metadata": {},
   "source": [
    "С помощью функции`read_sql_query()` считаем данные из БД и загрузим их в DataFrame:"
   ]
  },
  {
   "cell_type": "code",
   "execution_count": null,
   "metadata": {},
   "outputs": [],
   "source": []
  },
  {
   "cell_type": "markdown",
   "metadata": {},
   "source": [
    "Подключимся к CSV-файлу `passenger_feedback.csv` и выгрузим из него данные в DataFrame:"
   ]
  },
  {
   "cell_type": "code",
   "execution_count": null,
   "metadata": {},
   "outputs": [],
   "source": []
  },
  {
   "cell_type": "markdown",
   "metadata": {},
   "source": [
    "#### **2. Очистка данных**"
   ]
  },
  {
   "cell_type": "markdown",
   "metadata": {},
   "source": [
    "Воспользуемся методом `info()` для получения базовой информации о строении дата-фреймов:"
   ]
  },
  {
   "cell_type": "code",
   "execution_count": null,
   "metadata": {},
   "outputs": [],
   "source": []
  },
  {
   "cell_type": "code",
   "execution_count": null,
   "metadata": {},
   "outputs": [],
   "source": []
  },
  {
   "cell_type": "markdown",
   "metadata": {},
   "source": [
    "**Результаты работы методов** `info()`:\n",
    "\n"
   ]
  },
  {
   "cell_type": "code",
   "execution_count": null,
   "metadata": {},
   "outputs": [],
   "source": []
  },
  {
   "cell_type": "code",
   "execution_count": null,
   "metadata": {},
   "outputs": [],
   "source": []
  },
  {
   "cell_type": "markdown",
   "metadata": {},
   "source": [
    "**Выводы о пропусках в данных:**"
   ]
  },
  {
   "cell_type": "markdown",
   "metadata": {},
   "source": [
    "Если мы хотим работать с датами более **удобно**, то можно преобразовать столбец `date` к типу `datetime`."
   ]
  },
  {
   "cell_type": "code",
   "execution_count": null,
   "metadata": {},
   "outputs": [],
   "source": []
  },
  {
   "cell_type": "markdown",
   "metadata": {},
   "source": [
    "Визуально ничего не изменилось, но если мы снова вызовем метод `info()`, то для столбца `date` будет указан тип `datetime64[ns]`:"
   ]
  },
  {
   "cell_type": "code",
   "execution_count": null,
   "metadata": {},
   "outputs": [],
   "source": []
  },
  {
   "cell_type": "markdown",
   "metadata": {},
   "source": [
    "#### **3. Обработка данных**"
   ]
  },
  {
   "cell_type": "markdown",
   "metadata": {},
   "source": [
    "Давайте сопоставим данные, которые есть в наших дата-фреймах."
   ]
  },
  {
   "cell_type": "code",
   "execution_count": null,
   "metadata": {},
   "outputs": [],
   "source": []
  },
  {
   "cell_type": "code",
   "execution_count": null,
   "metadata": {},
   "outputs": [],
   "source": []
  },
  {
   "cell_type": "markdown",
   "metadata": {},
   "source": [
    "**Выводы о количестве данных**:"
   ]
  },
  {
   "cell_type": "markdown",
   "metadata": {},
   "source": [
    "Попробуем рассчитать среднюю оценку для каждого маршрута с помощью **группировки**."
   ]
  },
  {
   "cell_type": "code",
   "execution_count": null,
   "metadata": {},
   "outputs": [],
   "source": []
  },
  {
   "cell_type": "markdown",
   "metadata": {},
   "source": [
    "Отсортируем полученные данные в порядке **убывания** среднего значения рейтинга, чтобы удобнее было отслеживать маршруты с максимальными и минимальными оценками."
   ]
  },
  {
   "cell_type": "code",
   "execution_count": null,
   "metadata": {},
   "outputs": [],
   "source": []
  },
  {
   "cell_type": "markdown",
   "metadata": {},
   "source": [
    "**Выводы о средних рейтингах**:"
   ]
  },
  {
   "cell_type": "markdown",
   "metadata": {},
   "source": [
    "Теперь попробуем создать таблицу, показывающую, в какие дни каждый маршрут нагружен **больше** всего по **количеству** пассажиров. "
   ]
  },
  {
   "cell_type": "code",
   "execution_count": null,
   "metadata": {},
   "outputs": [],
   "source": []
  },
  {
   "cell_type": "markdown",
   "metadata": {},
   "source": [
    "Теперь создадим дополнительную **серию**, где индексами будут номера маршрутов, а значениями - индексы строк с максимальным значением из созданного ранее дата-фрейма."
   ]
  },
  {
   "cell_type": "code",
   "execution_count": null,
   "metadata": {},
   "outputs": [],
   "source": []
  },
  {
   "cell_type": "markdown",
   "metadata": {},
   "source": [
    "Финальное действие - выбрать строки из дата-фрейма на основе индексов, которые содержатся в созданной ранее серии."
   ]
  },
  {
   "cell_type": "code",
   "execution_count": null,
   "metadata": {},
   "outputs": [],
   "source": []
  },
  {
   "cell_type": "markdown",
   "metadata": {},
   "source": [
    "В итоге мы получили дата-фрейм, где для каждого маршрута указана дата с максимальной загрузкой с точки зрения количества пассажиров."
   ]
  },
  {
   "cell_type": "markdown",
   "metadata": {},
   "source": [
    "#### **4. Визуализация данных**"
   ]
  },
  {
   "cell_type": "markdown",
   "metadata": {},
   "source": [
    "Для построения визуализации будем использовать известную нам библиотеку `matplotlib`, подключим ее к нашему проекту:"
   ]
  },
  {
   "cell_type": "code",
   "execution_count": null,
   "metadata": {},
   "outputs": [],
   "source": []
  },
  {
   "cell_type": "markdown",
   "metadata": {},
   "source": [
    "Наша первая задача в рамках визуализации - построить **столбчатую диаграмму** для анализа средней оценки маршрутов. Такие данные мы уже получали ранее, на этапе обработки данных. Теперь же визуализируем их, что поможет упростить восприятие данной информации для сотрудников транспортной компании:"
   ]
  },
  {
   "cell_type": "code",
   "execution_count": null,
   "metadata": {},
   "outputs": [],
   "source": []
  },
  {
   "cell_type": "markdown",
   "metadata": {},
   "source": [
    "**Выводы по столбчатой диаграмме**:"
   ]
  },
  {
   "cell_type": "markdown",
   "metadata": {},
   "source": [
    "Наша следующая задача - построить **линейные графики**, показывающие пассажиропоток по датам для самых загруженных маршрутов. "
   ]
  },
  {
   "cell_type": "markdown",
   "metadata": {},
   "source": [
    "Чтобы выявить самые загруженные маршруты, сгруппируем данные по номеру маршрута (`route_id`) и для каждой группы найдем среднее количество пассаржиров."
   ]
  },
  {
   "cell_type": "code",
   "execution_count": null,
   "metadata": {},
   "outputs": [],
   "source": []
  },
  {
   "cell_type": "markdown",
   "metadata": {},
   "source": [
    "Отберем 3 самых **загруженных** маршрута - это..."
   ]
  },
  {
   "cell_type": "code",
   "execution_count": null,
   "metadata": {},
   "outputs": [],
   "source": []
  },
  {
   "cell_type": "markdown",
   "metadata": {},
   "source": [
    "Для того, чтобы точек на графиках было не слишком много, выгрузим данные только за **октябрь**."
   ]
  },
  {
   "cell_type": "code",
   "execution_count": null,
   "metadata": {},
   "outputs": [],
   "source": []
  },
  {
   "cell_type": "markdown",
   "metadata": {},
   "source": [
    "Полученные данные дополнительно сгруппируем по `route_id` для более удобной визуализации:"
   ]
  },
  {
   "cell_type": "code",
   "execution_count": null,
   "metadata": {},
   "outputs": [],
   "source": []
  },
  {
   "cell_type": "markdown",
   "metadata": {},
   "source": [
    "Построим 3 линейных графика в соответствии с заданием:"
   ]
  },
  {
   "cell_type": "code",
   "execution_count": null,
   "metadata": {},
   "outputs": [],
   "source": []
  },
  {
   "cell_type": "markdown",
   "metadata": {},
   "source": [
    "**Выводы по линейным графикам**:"
   ]
  },
  {
   "cell_type": "markdown",
   "metadata": {},
   "source": [
    "#### **5. Выводы**"
   ]
  },
  {
   "cell_type": "markdown",
   "metadata": {},
   "source": [
    "Отвечая на вопрос:\"Какой маршрут больше всего требует изменений для повышения эффективности транспортной сети?\", можно сказать, что..."
   ]
  }
 ],
 "metadata": {
  "kernelspec": {
   "display_name": "Python 3",
   "language": "python",
   "name": "python3"
  },
  "language_info": {
   "codemirror_mode": {
    "name": "ipython",
    "version": 3
   },
   "file_extension": ".py",
   "mimetype": "text/x-python",
   "name": "python",
   "nbconvert_exporter": "python",
   "pygments_lexer": "ipython3",
   "version": "3.12.6"
  }
 },
 "nbformat": 4,
 "nbformat_minor": 2
}
